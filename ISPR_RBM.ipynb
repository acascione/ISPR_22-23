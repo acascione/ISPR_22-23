{
  "nbformat": 4,
  "nbformat_minor": 0,
  "metadata": {
    "colab": {
      "provenance": []
    },
    "kernelspec": {
      "name": "python3",
      "display_name": "Python 3"
    },
    "language_info": {
      "name": "python"
    }
  },
  "cells": [
    {
      "cell_type": "code",
      "execution_count": null,
      "metadata": {
        "id": "TFn0IUNbIxCn"
      },
      "outputs": [],
      "source": []
    },
    {
      "cell_type": "markdown",
      "source": [
        "# Implementation from scratch of an RBM\n",
        "# Assignment 3 - Alessio Cascione"
      ],
      "metadata": {
        "id": "SKpe8VloS3L2"
      }
    },
    {
      "cell_type": "markdown",
      "source": [
        "### Section 1 - RBM implementation"
      ],
      "metadata": {
        "id": "T8RMsbLOk_92"
      }
    },
    {
      "cell_type": "markdown",
      "source": [
        "The following code shows an implementation of a Restricted Boltzmann Machine (RBM) with standard contrastive divergence approach (considering a Gibbs sampling for k = 1) for training, including L2 regularization parameters for the weights and introducing momentum, following the weight update rule suggested in [Shen, Li](https://www.sciencedirect.com/science/article/pii/S0925231219310811) (pg.42, equation 10):\n",
        "\n",
        "\n",
        "\n",
        "> To accelerate the entire network convergence, our momentum method with a small amount of weight decay adopted the combination of the previous gradient value and the positive direction of the current gradient, as follows:\n",
        "\n",
        "\n",
        "> $\\theta_{(t)} = \\theta_{(t-1)} + m^*\\Delta \\theta_{(t-1)} + \\eta(\\frac{\\partial L(\\theta) }{\\partial \\theta_i}) -\\lambda_1\\theta_{(t-1)}$\n",
        "\n",
        "Where $λ_1$ is the weight decay term, $m^*$ the momentum term, $\\eta$ the learning rate and $\\theta$ the RBM parameters.\n",
        "\n",
        "A further note regarding the contrastive divergence implementation must be specified. Following section 1.2 by [Goh, Thome and Cord](https://webia.lip6.fr/~cord/pdfs/publis/NIPS2010_Goh.pdf):\n",
        "\n",
        "\n",
        "> The activation probabilities of $v_i$ and $h_j$ may be used in place of their binary states for parameter updates (see[[7]](https://www.cs.toronto.edu/~hinton/absps/guideTR.pdf)). This process, known as Rao-Blackwellization [[1]](https://www.jstor.org/stable/2236107\n",
        "), results in an estimator with lower variance[[18]](https://ieeexplore.ieee.org/stamp/stamp.jsp?tp=&arnumber=5454138).\n",
        "\n",
        "Therefore we update the weights and the biases using activation probabilities instead of samples in order to obtain a lower variance estimate (treating biases' update rules with the same probabilistic approach, given the fact that biases can be thought as connections linked to \"imaginary\" hidden and visible units always set to 1)\n",
        "\n",
        "\n"
      ],
      "metadata": {
        "id": "JJt5GpRtTZrg"
      }
    },
    {
      "cell_type": "code",
      "source": [
        "import math\n",
        "import numpy as np\n",
        "import pandas as pd\n",
        "import matplotlib.pyplot as plt\n",
        "from skimage.metrics import structural_similarity\n",
        "from sklearn.model_selection import train_test_split, ParameterGrid\n",
        "from sklearn.metrics import mean_squared_error\n",
        "import seaborn as sns\n",
        "from tqdm import tqdm\n",
        "\n",
        "\n",
        "from keras.datasets import mnist\n",
        "\n",
        "(X_train, y_train), (X_test, y_test) = mnist.load_data()\n",
        "\n",
        "#express mnist in terms of values in [0,1] interval\n",
        "\n",
        "X_train = X_train / 255\n",
        "X_test = X_test / 255\n",
        "\n",
        "#reshape mnist images into flat vectors\n",
        "\n",
        "X_train = X_train.reshape(X_train.shape[0], -1)\n",
        "X_test = X_test.reshape(X_test.shape[0], -1)\n",
        "\n",
        "#performa a train_test split on the training set for naive model selection phase (using standard hold-out method)\n",
        "\n",
        "X_train_val, X_test_val, y_train_val, y_test_val = train_test_split(X_train, y_train, random_state = 42)\n",
        "\n",
        "#define sigmoid function for RBM\n",
        "def sigmoid(x):\n",
        "    return 1.0 / (1 + np.exp(-x))\n",
        "\n",
        "#define auxiliary comparison function among two images (original, reconstructed)\n",
        "def comparison(x,y,function):\n",
        "  x = np.reshape(x,newshape=(28, 28))\n",
        "  y = np.reshape(y,newshape=(28, 28))\n",
        "  return function(x,y)\n",
        "\n",
        "def selection(params_list, X_train_val, X_test_val):\n",
        "  rank_models = {}\n",
        "\n",
        "  for params in params_list:\n",
        "\n",
        "    batch_size = params['batch_size']\n",
        "    decay_W  = params['decay_W']\n",
        "    decay_h = params['decay_h']\n",
        "    decay_v = params['decay_v']\n",
        "    epochs = params['epochs']\n",
        "    lr = params['lr']\n",
        "    momentum = params['momentum']\n",
        "\n",
        "    rbm = RBM(visible_units=len(X_train_val[0]), hidden_units=100)\n",
        "\n",
        "    rbm.fit(X_train = X_train_val, y_train = y_train_val,\n",
        "            epochs=epochs, lr=lr, k=1, batch_size=batch_size, momentum = momentum,\n",
        "            decay_W = decay_W, decay_v = decay_v, decay_h = decay_h)\n",
        "\n",
        "    rank_models[rbm.evaluate_reconstructions(X_test_val)] = params\n",
        "\n",
        "  return rank_models\n",
        "\n",
        "\n",
        "\n",
        "\n",
        "param_grid = {'epochs': [1,5], 'lr': [0.1], 'batch_size' : [1,100,6000], 'momentum' : [0.0,0.5,0.9],\n",
        "              'decay_W' : [0.0,0.0001], 'decay_v' : [0.0], 'decay_h' : [0.0] }\n",
        "params_list = list(ParameterGrid(param_grid))\n"
      ],
      "metadata": {
        "id": "Pgbyn68CWsZB"
      },
      "execution_count": null,
      "outputs": []
    },
    {
      "cell_type": "code",
      "source": [
        "class RBM ():\n",
        "\n",
        "    def __init__(self, visible_units, hidden_units, v_bias=None, h_bias=None):\n",
        "\n",
        "      #define the number of visible and hidden units, along with the random initial weights in [-1, 1) interval\n",
        "      #set hidden and visible bias to a 0s array if v_bias/h_bias is None.\n",
        "\n",
        "        self.v_units = visible_units\n",
        "        self.h_units = hidden_units\n",
        "\n",
        "        self.weights = np.random.uniform(-1, 1, size=(hidden_units, visible_units))\n",
        "        self.v_bias = v_bias if v_bias is not None else np.zeros(visible_units)\n",
        "        self.h_bias = h_bias if h_bias is not None else np.zeros(hidden_units)\n",
        "\n",
        "    def get_visible_hidden(self, h_sample):\n",
        "      #given an hidden sample, obtain the visible probabilities and a sample from these probabilities\n",
        "        v_probabilities = sigmoid(np.matmul(h_sample, self.weights) + self.v_bias)\n",
        "        v_sample = np.random.binomial(n=1, p=v_probabilities)\n",
        "        return v_probabilities, v_sample\n",
        "\n",
        "    def get_hidden_visible(self, v_sample):\n",
        "       #given a visible sample, obtain the hidden probabilities and a sample from these probabilities\n",
        "        h_probabilities = sigmoid(np.matmul(self.weights, v_sample) + self.h_bias)\n",
        "        h_sample = np.random.binomial(n=1, p=h_probabilities)\n",
        "        return h_probabilities, h_sample\n",
        "\n",
        "    def gibbs_sampling(self, h_sample, iter):\n",
        "      #perform Gibbs sampling for a certain number of iterations\n",
        "        v_probabilities, h_probabilities, v_sample = None, None, None\n",
        "        for i in range(iter):\n",
        "            v_probabilities, v_sample = self.get_visible_hidden(h_sample)\n",
        "            h_probabilities, h_sample = self.get_hidden_visible(v_sample)\n",
        "        return v_probabilities, h_probabilities, v_sample, h_sample\n",
        "\n",
        "    def contrastive_divergence(self, v_probabilities, k):\n",
        "    #perform contrastive divergence using \"k\" iterations for the gibbs sampling phase\n",
        "\n",
        "\n",
        "    #given a vector of probability v_probabilities, binarize the vector and get\n",
        "    #hidden probabilities and samples for the positive phase\n",
        "\n",
        "      data = np.random.binomial(n=1, p=v_probabilities)\n",
        "      poshidP, poshidS = self.get_hidden_visible(data)\n",
        "\n",
        "    #compute the wake - positive term as an outer product of poshidP and v_probabilities\n",
        "      wake = np.outer(poshidP, v_probabilities)\n",
        "\n",
        "    #perform Gibbs sampling and obtain the dream - negative term as an outer product of neghidP and reconDataP\n",
        "      reconDataP, neghidP, reconData, neghidS = self.gibbs_sampling(poshidS, k)\n",
        "      dream = np.outer(neghidP, reconDataP)\n",
        "\n",
        "\n",
        "      deltaW = wake - dream\n",
        "      deltaBh = poshidP - neghidP\n",
        "      deltaBv = v_probabilities - reconDataP\n",
        "\n",
        "\n",
        "      return deltaW, deltaBv, deltaBh\n",
        "\n",
        "\n",
        "    def encode(self, instance):\n",
        "    #simple function to obtain an encoding of an instance, in the form of the hidden probabilities and the respective sample\n",
        "      instance_sample = np.random.binomial(n=1, p=instance, size = len(instance))\n",
        "      poshidP, poshidS = self.get_hidden_visible(instance_sample)\n",
        "      return poshidP, poshidS\n",
        "\n",
        "    def reconstruct(self, instance, show = False):\n",
        "    #function used to reconstruct the instance and show a comparison if needed\n",
        "      poshidP, poshidS = self.encode(instance)\n",
        "      reconDataP, reconData = self.get_visible_hidden(poshidS)\n",
        "\n",
        "      if show:\n",
        "        fig, ax = plt.subplots(1, 2)\n",
        "        ax[0].imshow(np.reshape(instance, newshape=(28, 28)))\n",
        "        ax[0].set_title('Original')\n",
        "        ax[1].imshow(np.reshape(reconDataP, newshape=(28, 28)))\n",
        "        ax[1].set_title('Reconstructed')\n",
        "        fig.show()\n",
        "\n",
        "      return reconDataP, reconData\n",
        "\n",
        "    def evaluate_reconstructions(self, X_test):\n",
        "      #evaluate the reconstructions of RBM given a test set\n",
        "      #comparing each reconstruction with the original using MSE\n",
        "\n",
        "      errors = 0\n",
        "      for instance in X_test:\n",
        "        reconDataP, reconData = self.reconstruct(instance)\n",
        "\n",
        "        errors += (mean_squared_error(instance, reconDataP))\n",
        "\n",
        "      return errors / len(X_test)\n",
        "\n",
        "    def fit(self, X_train, y_train, epochs=1, lr=0.1, k=1, batch_size=1, momentum = 0.1, decay_W = 0.001, decay_v = 0.0, decay_h = 0.0):\n",
        "\n",
        "    #training function for the RBM, considering epochs, batch_size, learning rate, momentum and regularization parameters.\n",
        "\n",
        "        self.train_imgs, self.train_labels = X_train, y_train\n",
        "        n_instances = len(self.train_labels)\n",
        "        indexes = list(range(n_instances))\n",
        "\n",
        "        #initialize old_delta_W/Bv/Bh for the momentum\n",
        "        old_delta_W = np.zeros(shape=self.weights.shape)\n",
        "        old_delta_Bv = np.zeros(shape=(len(self.v_bias),))\n",
        "        old_delta_Bh = np.zeros(shape=(len(self.h_bias),))\n",
        "\n",
        "\n",
        "        for epoch in range(epochs):\n",
        "            np.random.shuffle(indexes)\n",
        "\n",
        "            self.train_imgs = self.train_imgs[indexes]\n",
        "            self.train_labels = self.train_labels[indexes]\n",
        "\n",
        "\n",
        "            for batch_idx in tqdm(range(math.ceil(len(self.train_labels)/batch_size))):\n",
        "\n",
        "                start = batch_idx * batch_size\n",
        "                end = start + batch_size\n",
        "                batch_instances = self.train_imgs[start:end]\n",
        "\n",
        "                deltaW = np.zeros(shape=self.weights.shape)\n",
        "                deltaBv = np.zeros(shape=(len(self.v_bias),))\n",
        "                deltaBh = np.zeros(shape=(len(self.h_bias),))\n",
        "\n",
        "\n",
        "\n",
        "                for instance in batch_instances:\n",
        "                  #perform contrastive divergence on each instance of the mini-batch\n",
        "\n",
        "                    dW, dBv, dBh = self.contrastive_divergence(v_probabilities=instance, k=k)\n",
        "                    deltaW = np.add(deltaW, dW)\n",
        "                    deltaBv = np.add(deltaBv, dBv)\n",
        "                    deltaBh = np.add(deltaBh, dBh)\n",
        "\n",
        "              #update the weights, visible bias and hidden bias\n",
        "                self.weights += (lr / batch_size) * deltaW + (momentum * old_delta_W) - (decay_W * self.weights)\n",
        "                self.v_bias += (lr / batch_size) * deltaBv + (momentum * old_delta_Bv) - (decay_v * self.v_bias)\n",
        "                self.h_bias += (lr / batch_size) * deltaBh + (momentum * old_delta_Bh) - (decay_h* self.h_bias)\n",
        "\n",
        "\n",
        "              #update the momentum delta\n",
        "                old_delta_W = (lr / batch_size) * deltaW\n",
        "                old_delta_bv =  (lr / batch_size) * deltaBv\n",
        "                old_delta_bh = (lr / batch_size) * deltaBh\n",
        "\n",
        "\n"
      ],
      "metadata": {
        "id": "uRSYtNlcwJox"
      },
      "execution_count": null,
      "outputs": []
    },
    {
      "cell_type": "markdown",
      "source": [
        "### Section 2 - RBM training phase and results evaluation\n"
      ],
      "metadata": {
        "id": "b1WXO19TlHW5"
      }
    },
    {
      "cell_type": "markdown",
      "source": [
        "For the model selection, we perform a simple hold-out methodology over the MNIST training set, using 25% of the original training as validation set and the remaing part as training set during the model selection.\n",
        "\n",
        "As a selection strategy, we first fit all the models and then reconstruct the validation set images using the trained RBMs: we then choose the RBM having the lowest average reconstruction error over the validation set, using MSE as a metric to compare the similarity between an original image belonging to the validation set and its reconstructed counterpart.\n",
        "\n",
        "Having chosen the best RBM, we fit it on the original 60000 images long MNIST training set and obtain the reconstructed version of the 10000 images long test set."
      ],
      "metadata": {
        "id": "-x4SkyYZliUW"
      }
    },
    {
      "cell_type": "code",
      "source": [
        "#performing the model selection: the output has been cleaned for notebook readability\n",
        "rank_models = selection(params_list, X_train_val, X_test_val)"
      ],
      "metadata": {
        "id": "4Y0b_GEIsYSv"
      },
      "execution_count": null,
      "outputs": []
    },
    {
      "cell_type": "code",
      "source": [
        "#printing out the best three models with respect to the mean MSE between validation and reconstructions\n",
        "for i in sorted(rank_models.keys())[0:3]:\n",
        "  print(i, rank_models[i])"
      ],
      "metadata": {
        "colab": {
          "base_uri": "https://localhost:8080/"
        },
        "id": "EPcrALwed70c",
        "outputId": "61dd6cf4-772a-4239-ba6b-262574d116f9"
      },
      "execution_count": null,
      "outputs": [
        {
          "output_type": "stream",
          "name": "stdout",
          "text": [
            "0.023641674535299993 {'batch_size': 1, 'decay_W': 0.0001, 'decay_h': 0.0, 'decay_v': 0.0, 'epochs': 5, 'lr': 0.1, 'momentum': 0.0}\n",
            "0.025050885046305815 {'batch_size': 1, 'decay_W': 0.0, 'decay_h': 0.0, 'decay_v': 0.0, 'epochs': 5, 'lr': 0.1, 'momentum': 0.0}\n",
            "0.02533287850158067 {'batch_size': 1, 'decay_W': 0.0001, 'decay_h': 0.0, 'decay_v': 0.0, 'epochs': 1, 'lr': 0.1, 'momentum': 0.0}\n"
          ]
        }
      ]
    },
    {
      "cell_type": "code",
      "source": [
        "#fitting the best model over the whole training set\n",
        "rbm = RBM(visible_units=len(X_train[0]), hidden_units=100)\n",
        "rbm.fit(X_train = X_train, y_train = y_train, epochs=5, lr=0.1, k=1, batch_size=1, momentum = 0.0, decay_W = 0.0001, decay_v = 0.0, decay_h = 0.0)"
      ],
      "metadata": {
        "colab": {
          "base_uri": "https://localhost:8080/"
        },
        "id": "2mjC0okuzZyw",
        "outputId": "b0cb50fb-c0d7-4996-ceb2-f42bdfc92b30"
      },
      "execution_count": null,
      "outputs": [
        {
          "output_type": "stream",
          "name": "stderr",
          "text": [
            "100%|██████████| 60000/60000 [01:49<00:00, 546.66it/s]\n",
            "100%|██████████| 60000/60000 [01:49<00:00, 548.71it/s]\n",
            "100%|██████████| 60000/60000 [01:48<00:00, 554.24it/s]\n",
            "100%|██████████| 60000/60000 [01:47<00:00, 557.56it/s]\n",
            "100%|██████████| 60000/60000 [01:47<00:00, 556.23it/s]\n"
          ]
        }
      ]
    },
    {
      "cell_type": "markdown",
      "source": [
        "In order to compare the reconstructed images with the original test ones, we use the structural similarity index measure (SSIM), based on the comparison of luminance, contrast and structure similarity instead of the simple MSE used only for validation purposes:\n",
        "\n",
        "> When comparing images, the mean squared error (MSE)–while simple to implement–is not highly indicative of perceived similarity. Structural similarity aims to address this shortcoming by taking texture into account - as suggested in the [skimage-library and relative papers](https://scikit-image.org/docs/stable/auto_examples/transform/plot_ssim.html#id2).\n",
        "\n",
        "In our case, MSE was used as a naive criterion to find the best model in the simple model selection discussed above: we prefer using a more robust and \"interpretable\" measure, given the fact that SSIM ranges between 0 (minimal similarity) and 1 (maximal similarity),  in the context of direct comparison with the whole test set.\n",
        "\n"
      ],
      "metadata": {
        "id": "bwoXX-StfwIc"
      }
    },
    {
      "cell_type": "code",
      "source": [
        "#obtain all the test set reconstructions\n",
        "X_test_reconstruction = [rbm.reconstruct(image)[0] for image in X_test]"
      ],
      "metadata": {
        "id": "KJAF-oh2Muq0"
      },
      "execution_count": null,
      "outputs": []
    },
    {
      "cell_type": "code",
      "source": [
        "#a pandas dataframe is defined in order to better manage the reconstructions\n",
        "d = {'X_test' : list(X_test), 'X_test_reconstruction': (X_test_reconstruction), 'y_test': y_test}\n",
        "df = pd.DataFrame(data=d)\n",
        "\n",
        "SSIM = [comparison(row['X_test_reconstruction'], row['X_test'], structural_similarity) for index, row in df.iterrows()]\n",
        "df['SSIM'] = SSIM\n"
      ],
      "metadata": {
        "id": "6hUEkwR8Oxv6"
      },
      "execution_count": null,
      "outputs": []
    },
    {
      "cell_type": "markdown",
      "source": [
        "The table belows illustrates the average SSIM between reconstructed and original images for each digit class in the test set. Furthermore, a single particular example for each digit is reported, too.\n",
        "\n",
        "Results are, on average, satisfactory for the 0, 1, 7 and 9 digits, having a mean SSIM above or very close to 0.8, while improvements might be desirable for the other labels."
      ],
      "metadata": {
        "id": "u-5GlOsrjGTn"
      }
    },
    {
      "cell_type": "code",
      "source": [
        "summary_table = df.groupby('y_test', as_index=False)['SSIM'].mean()\n",
        "summary_table"
      ],
      "metadata": {
        "colab": {
          "base_uri": "https://localhost:8080/",
          "height": 363
        },
        "id": "Xag1Gp3HFzX_",
        "outputId": "80265a33-6656-489e-d6b6-4a72251be889"
      },
      "execution_count": null,
      "outputs": [
        {
          "output_type": "execute_result",
          "data": {
            "text/plain": [
              "   y_test      SSIM\n",
              "0       0  0.799698\n",
              "1       1  0.870096\n",
              "2       2  0.722343\n",
              "3       3  0.750964\n",
              "4       4  0.744279\n",
              "5       5  0.739418\n",
              "6       6  0.762501\n",
              "7       7  0.785948\n",
              "8       8  0.738440\n",
              "9       9  0.798043"
            ],
            "text/html": [
              "\n",
              "  <div id=\"df-34633a61-7979-4377-b3f4-f0d2c83b0922\">\n",
              "    <div class=\"colab-df-container\">\n",
              "      <div>\n",
              "<style scoped>\n",
              "    .dataframe tbody tr th:only-of-type {\n",
              "        vertical-align: middle;\n",
              "    }\n",
              "\n",
              "    .dataframe tbody tr th {\n",
              "        vertical-align: top;\n",
              "    }\n",
              "\n",
              "    .dataframe thead th {\n",
              "        text-align: right;\n",
              "    }\n",
              "</style>\n",
              "<table border=\"1\" class=\"dataframe\">\n",
              "  <thead>\n",
              "    <tr style=\"text-align: right;\">\n",
              "      <th></th>\n",
              "      <th>y_test</th>\n",
              "      <th>SSIM</th>\n",
              "    </tr>\n",
              "  </thead>\n",
              "  <tbody>\n",
              "    <tr>\n",
              "      <th>0</th>\n",
              "      <td>0</td>\n",
              "      <td>0.799698</td>\n",
              "    </tr>\n",
              "    <tr>\n",
              "      <th>1</th>\n",
              "      <td>1</td>\n",
              "      <td>0.870096</td>\n",
              "    </tr>\n",
              "    <tr>\n",
              "      <th>2</th>\n",
              "      <td>2</td>\n",
              "      <td>0.722343</td>\n",
              "    </tr>\n",
              "    <tr>\n",
              "      <th>3</th>\n",
              "      <td>3</td>\n",
              "      <td>0.750964</td>\n",
              "    </tr>\n",
              "    <tr>\n",
              "      <th>4</th>\n",
              "      <td>4</td>\n",
              "      <td>0.744279</td>\n",
              "    </tr>\n",
              "    <tr>\n",
              "      <th>5</th>\n",
              "      <td>5</td>\n",
              "      <td>0.739418</td>\n",
              "    </tr>\n",
              "    <tr>\n",
              "      <th>6</th>\n",
              "      <td>6</td>\n",
              "      <td>0.762501</td>\n",
              "    </tr>\n",
              "    <tr>\n",
              "      <th>7</th>\n",
              "      <td>7</td>\n",
              "      <td>0.785948</td>\n",
              "    </tr>\n",
              "    <tr>\n",
              "      <th>8</th>\n",
              "      <td>8</td>\n",
              "      <td>0.738440</td>\n",
              "    </tr>\n",
              "    <tr>\n",
              "      <th>9</th>\n",
              "      <td>9</td>\n",
              "      <td>0.798043</td>\n",
              "    </tr>\n",
              "  </tbody>\n",
              "</table>\n",
              "</div>\n",
              "      <button class=\"colab-df-convert\" onclick=\"convertToInteractive('df-34633a61-7979-4377-b3f4-f0d2c83b0922')\"\n",
              "              title=\"Convert this dataframe to an interactive table.\"\n",
              "              style=\"display:none;\">\n",
              "        \n",
              "  <svg xmlns=\"http://www.w3.org/2000/svg\" height=\"24px\"viewBox=\"0 0 24 24\"\n",
              "       width=\"24px\">\n",
              "    <path d=\"M0 0h24v24H0V0z\" fill=\"none\"/>\n",
              "    <path d=\"M18.56 5.44l.94 2.06.94-2.06 2.06-.94-2.06-.94-.94-2.06-.94 2.06-2.06.94zm-11 1L8.5 8.5l.94-2.06 2.06-.94-2.06-.94L8.5 2.5l-.94 2.06-2.06.94zm10 10l.94 2.06.94-2.06 2.06-.94-2.06-.94-.94-2.06-.94 2.06-2.06.94z\"/><path d=\"M17.41 7.96l-1.37-1.37c-.4-.4-.92-.59-1.43-.59-.52 0-1.04.2-1.43.59L10.3 9.45l-7.72 7.72c-.78.78-.78 2.05 0 2.83L4 21.41c.39.39.9.59 1.41.59.51 0 1.02-.2 1.41-.59l7.78-7.78 2.81-2.81c.8-.78.8-2.07 0-2.86zM5.41 20L4 18.59l7.72-7.72 1.47 1.35L5.41 20z\"/>\n",
              "  </svg>\n",
              "      </button>\n",
              "      \n",
              "  <style>\n",
              "    .colab-df-container {\n",
              "      display:flex;\n",
              "      flex-wrap:wrap;\n",
              "      gap: 12px;\n",
              "    }\n",
              "\n",
              "    .colab-df-convert {\n",
              "      background-color: #E8F0FE;\n",
              "      border: none;\n",
              "      border-radius: 50%;\n",
              "      cursor: pointer;\n",
              "      display: none;\n",
              "      fill: #1967D2;\n",
              "      height: 32px;\n",
              "      padding: 0 0 0 0;\n",
              "      width: 32px;\n",
              "    }\n",
              "\n",
              "    .colab-df-convert:hover {\n",
              "      background-color: #E2EBFA;\n",
              "      box-shadow: 0px 1px 2px rgba(60, 64, 67, 0.3), 0px 1px 3px 1px rgba(60, 64, 67, 0.15);\n",
              "      fill: #174EA6;\n",
              "    }\n",
              "\n",
              "    [theme=dark] .colab-df-convert {\n",
              "      background-color: #3B4455;\n",
              "      fill: #D2E3FC;\n",
              "    }\n",
              "\n",
              "    [theme=dark] .colab-df-convert:hover {\n",
              "      background-color: #434B5C;\n",
              "      box-shadow: 0px 1px 3px 1px rgba(0, 0, 0, 0.15);\n",
              "      filter: drop-shadow(0px 1px 2px rgba(0, 0, 0, 0.3));\n",
              "      fill: #FFFFFF;\n",
              "    }\n",
              "  </style>\n",
              "\n",
              "      <script>\n",
              "        const buttonEl =\n",
              "          document.querySelector('#df-34633a61-7979-4377-b3f4-f0d2c83b0922 button.colab-df-convert');\n",
              "        buttonEl.style.display =\n",
              "          google.colab.kernel.accessAllowed ? 'block' : 'none';\n",
              "\n",
              "        async function convertToInteractive(key) {\n",
              "          const element = document.querySelector('#df-34633a61-7979-4377-b3f4-f0d2c83b0922');\n",
              "          const dataTable =\n",
              "            await google.colab.kernel.invokeFunction('convertToInteractive',\n",
              "                                                     [key], {});\n",
              "          if (!dataTable) return;\n",
              "\n",
              "          const docLinkHtml = 'Like what you see? Visit the ' +\n",
              "            '<a target=\"_blank\" href=https://colab.research.google.com/notebooks/data_table.ipynb>data table notebook</a>'\n",
              "            + ' to learn more about interactive tables.';\n",
              "          element.innerHTML = '';\n",
              "          dataTable['output_type'] = 'display_data';\n",
              "          await google.colab.output.renderOutput(dataTable, element);\n",
              "          const docLink = document.createElement('div');\n",
              "          docLink.innerHTML = docLinkHtml;\n",
              "          element.appendChild(docLink);\n",
              "        }\n",
              "      </script>\n",
              "    </div>\n",
              "  </div>\n",
              "  "
            ]
          },
          "metadata": {},
          "execution_count": 40
        }
      ]
    },
    {
      "cell_type": "code",
      "source": [
        "fig, ax = plt.subplots(2, 10, figsize=(12, 2))\n",
        "for i in range(10):\n",
        "  for index, row in df.iterrows():\n",
        "\n",
        "    if row['y_test'] == i:\n",
        "      original = row['X_test']\n",
        "      recon = row['X_test_reconstruction']\n",
        "      ssim = row['SSIM']\n",
        "\n",
        "\n",
        "      ax[0, i].imshow(np.reshape(original, newshape=(28, 28)))\n",
        "      ax[0, i].tick_params(left=False, bottom=False, labelleft=False, labelbottom=False)\n",
        "      ax[1, i].imshow(np.reshape(recon, newshape=(28, 28)))\n",
        "      ax[1, i].set_xlabel(\"{:.3f}\".format(ssim))\n",
        "      ax[1, i].tick_params(left=False, bottom=False, labelleft=False, labelbottom=False)\n",
        "\n",
        "      break"
      ],
      "metadata": {
        "colab": {
          "base_uri": "https://localhost:8080/",
          "height": 210
        },
        "id": "gPY6gSTu5JVr",
        "outputId": "78d809b5-7a56-4e3b-8825-b832936732eb"
      },
      "execution_count": null,
      "outputs": [
        {
          "output_type": "display_data",
          "data": {
            "text/plain": [
              "<Figure size 1200x200 with 20 Axes>"
            ],
            "image/png": "[encoded data removed]"
          },
          "metadata": {}
        }
      ]
    },
    {
      "cell_type": "markdown",
      "source": [
        "### Section 3 - Brief comments and conclusions\n",
        "\n"
      ],
      "metadata": {
        "id": "fwjcXKfAkYga"
      }
    },
    {
      "cell_type": "markdown",
      "source": [
        "We have discussed a simple implementation of an RBM with contrastive divergence approach for the training phase, obtaining a satisfactory but improvable results.\n",
        "\n",
        "In order to check if better results are possible using an RBM architectures, different training methodologies could be adopted in principle, to see if they lead to changes in performances (for instance, considering average contrastive divergence as discussed in [Ma, Wang](https://www.mdpi.com/1099-4300/18/1/35)).\n",
        "\n",
        "A more principled model selection could be adopted, too - taking into account $k$-fold cross validation and more distinct configurations.\n",
        "\n",
        "At last, Deep Restricted Boltzmann Networks can be seen as a composition of RBM: it could be possible to see if extending the implementation with these could lead to better final performances."
      ],
      "metadata": {
        "id": "omCanvSqn5EP"
      }
    },
    {
      "cell_type": "code",
      "source": [],
      "metadata": {
        "id": "ncXjxC1EIzEt"
      },
      "execution_count": null,
      "outputs": []
    },
    {
      "cell_type": "code",
      "source": [],
      "metadata": {
        "id": "bQOqVFHMIzGo"
      },
      "execution_count": null,
      "outputs": []
    },
    {
      "cell_type": "code",
      "source": [],
      "metadata": {
        "id": "zn2i2_ZhIzI2"
      },
      "execution_count": null,
      "outputs": []
    },
    {
      "cell_type": "code",
      "source": [],
      "metadata": {
        "id": "Vj1go_qKIzK7"
      },
      "execution_count": null,
      "outputs": []
    },
    {
      "cell_type": "code",
      "source": [],
      "metadata": {
        "id": "BaAvvRCaIzNF"
      },
      "execution_count": null,
      "outputs": []
    },
    {
      "cell_type": "code",
      "source": [],
      "metadata": {
        "id": "sooNGgtKIzPR"
      },
      "execution_count": null,
      "outputs": []
    },
    {
      "cell_type": "code",
      "source": [],
      "metadata": {
        "id": "t541oeDTIzRS"
      },
      "execution_count": null,
      "outputs": []
    },
    {
      "cell_type": "code",
      "source": [],
      "metadata": {
        "id": "y8I7_CTKIzU0"
      },
      "execution_count": null,
      "outputs": []
    }
  ]
}